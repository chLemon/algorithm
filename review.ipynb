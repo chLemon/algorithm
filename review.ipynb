{
 "cells": [
  {
   "cell_type": "markdown",
   "id": "ccce8199",
   "metadata": {},
   "source": [
    "温故而知新\n",
    "\n",
    "\n",
    "需要有一个机制可以复习刷过的题目，学过的模板\n",
    "\n",
    "\n",
    "题目的解法，可以有个地方存放笔记什么的，到时候记录一下也就是了\n",
    "\n",
    "\n",
    "怎么复习呢？\n",
    "怎么交互呢？\n",
    "\n",
    "随机抽出来一道题路由到该题目的解法\n",
    "\n",
    "\n",
    "如果 markdown 可以引用公共模块就好了"
   ]
  },
  {
   "cell_type": "code",
   "execution_count": null,
   "id": "7f75e2f6",
   "metadata": {},
   "outputs": [],
   "source": []
  },
  {
   "cell_type": "code",
   "execution_count": null,
   "id": "2a8958b6",
   "metadata": {},
   "outputs": [],
   "source": []
  }
 ],
 "metadata": {
  "language_info": {
   "name": "python"
  }
 },
 "nbformat": 4,
 "nbformat_minor": 5
}

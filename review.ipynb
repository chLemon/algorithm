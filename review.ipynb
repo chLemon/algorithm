{
 "cells": [
  {
   "cell_type": "markdown",
   "id": "313d87a6",
   "metadata": {},
   "source": [
    "# 温故而知新\n",
    "\n",
    "每个题目上的注释\n",
    "\n",
    "- 第一行是 leetcode 链接\n",
    "- 第二行是 时空复杂度\n",
    "- 第三行是 tag\n",
    "\n",
    "随机抽出一道题目，看有没有印象，然后查看最佳时空复杂度，提示标签，展示代码，看看自己想的对不对\n",
    "\n"
   ]
  },
  {
   "cell_type": "code",
   "execution_count": 1,
   "id": "2a8958b6",
   "metadata": {},
   "outputs": [],
   "source": [
    "from pathlib import Path\n",
    "from pydantic import BaseModel\n",
    "import random\n",
    "\n",
    "solution_path = Path() / \"solution\"\n",
    "py_files = list(solution_path.rglob(\"*.py\"))\n",
    "\n",
    "\n",
    "class Question(BaseModel):\n",
    "    web_link: str\n",
    "    complex: str\n",
    "    tags: str\n",
    "    file: Path\n",
    "\n",
    "\n",
    "all_questions = []\n",
    "\n",
    "for py in py_files:\n",
    "    with open(py, \"r\", encoding=\"utf-8\") as file:\n",
    "        contents = file.readlines()\n",
    "    for i in range(0, 3):\n",
    "        if not contents[i].startswith(\"#\"):\n",
    "            print(\"文件 {} 中的注释格式不正确\".format(py))\n",
    "    all_questions.append(\n",
    "        Question(\n",
    "            web_link=contents[0].removeprefix(\"#\").strip(),\n",
    "            complex=contents[1].removeprefix(\"#\").strip(),\n",
    "            tags=contents[2].removeprefix(\"#\").strip(),\n",
    "            file=py,\n",
    "        )\n",
    "    )"
   ]
  },
  {
   "cell_type": "code",
   "execution_count": 2,
   "id": "0ecde3ee",
   "metadata": {},
   "outputs": [],
   "source": [
    "random_indices = random.sample(range(len(all_questions)), 2)\n",
    "write = all_questions[random_indices[0]]\n",
    "read = all_questions[random_indices[1]]"
   ]
  },
  {
   "cell_type": "code",
   "execution_count": 3,
   "id": "10315e14",
   "metadata": {},
   "outputs": [
    {
     "name": "stdout",
     "output_type": "stream",
     "text": [
      "回忆这道题的思路: https://leetcode.cn/problems/longest-substring-without-repeating-characters/\n"
     ]
    }
   ],
   "source": [
    "print(f\"回忆这道题的思路: {read.web_link}\")"
   ]
  },
  {
   "cell_type": "code",
   "execution_count": 4,
   "id": "5f5ae4be",
   "metadata": {},
   "outputs": [
    {
     "name": "stdout",
     "output_type": "stream",
     "text": [
      "做这道题: https://leetcode.cn/problems/length-of-longest-subarray-with-at-most-k-frequency/\n"
     ]
    }
   ],
   "source": [
    "print(f\"做这道题: {write.web_link}\")"
   ]
  },
  {
   "cell_type": "code",
   "execution_count": null,
   "id": "a3e81e99",
   "metadata": {},
   "outputs": [],
   "source": []
  }
 ],
 "metadata": {
  "kernelspec": {
   "display_name": "base",
   "language": "python",
   "name": "python3"
  },
  "language_info": {
   "codemirror_mode": {
    "name": "ipython",
    "version": 3
   },
   "file_extension": ".py",
   "mimetype": "text/x-python",
   "name": "python",
   "nbconvert_exporter": "python",
   "pygments_lexer": "ipython3",
   "version": "3.12.7"
  }
 },
 "nbformat": 4,
 "nbformat_minor": 5
}
